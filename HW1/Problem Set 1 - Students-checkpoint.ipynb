{
 "cells": [
  {
   "cell_type": "markdown",
   "metadata": {},
   "source": [
    "# Predicting exam results"
   ]
  },
  {
   "cell_type": "markdown",
   "metadata": {},
   "source": [
    "In this task you will build a model predicting students' marks on the exam given their demographics and historical performance. The [data](http://archive.ics.uci.edu/ml/datasets/Student+Performance) was collected at two Portuguese schools to get a better understanding of the factors that influence students' progress.  \n",
    "\n",
    "Preparing this data for analysis could be very time consuming so we did some preparation for you. File students_data.csv which goes along with this homework contains this dataset partially preprocessed and aggregated.\n",
    "\n",
    "Your goal is to build the model to predict the final grade of the student (the Grade column) provided values in all other columns."
   ]
  },
  {
   "cell_type": "code",
   "execution_count": 2,
   "metadata": {},
   "outputs": [],
   "source": [
    "import numpy as np\n",
    "import pandas as pd\n",
    "import scipy.stats as stats\n",
    "import matplotlib.pyplot as plt\n",
    "import sklearn\n",
    "import csv\n",
    "from sklearn.linear_model import LinearRegression\n",
    "from sklearn.metrics import mean_squared_error \n",
    "\n",
    "\n",
    "%matplotlib inline"
   ]
  },
  {
   "cell_type": "markdown",
   "metadata": {},
   "source": [
    "Let us load the data as a pandas dataframe."
   ]
  },
  {
   "cell_type": "code",
   "execution_count": 3,
   "metadata": {},
   "outputs": [],
   "source": [
    "data = pd.read_csv(\"students_data.csv\", sep = \";\")"
   ]
  },
  {
   "cell_type": "markdown",
   "metadata": {},
   "source": [
    "Now take a look at the dataset and its features:"
   ]
  },
  {
   "cell_type": "code",
   "execution_count": 4,
   "metadata": {},
   "outputs": [
    {
     "data": {
      "text/html": [
       "<div>\n",
       "<style scoped>\n",
       "    .dataframe tbody tr th:only-of-type {\n",
       "        vertical-align: middle;\n",
       "    }\n",
       "\n",
       "    .dataframe tbody tr th {\n",
       "        vertical-align: top;\n",
       "    }\n",
       "\n",
       "    .dataframe thead th {\n",
       "        text-align: right;\n",
       "    }\n",
       "</style>\n",
       "<table border=\"1\" class=\"dataframe\">\n",
       "  <thead>\n",
       "    <tr style=\"text-align: right;\">\n",
       "      <th></th>\n",
       "      <th>school</th>\n",
       "      <th>sex</th>\n",
       "      <th>age</th>\n",
       "      <th>address</th>\n",
       "      <th>famsize</th>\n",
       "      <th>Pstatus</th>\n",
       "      <th>Mjob</th>\n",
       "      <th>Fjob</th>\n",
       "      <th>guardian</th>\n",
       "      <th>traveltime</th>\n",
       "      <th>...</th>\n",
       "      <th>isMedu3</th>\n",
       "      <th>isMedu4</th>\n",
       "      <th>isFedu1</th>\n",
       "      <th>isFedu2</th>\n",
       "      <th>isFedu3</th>\n",
       "      <th>isFedu4</th>\n",
       "      <th>isReasonHome</th>\n",
       "      <th>isReasonRep</th>\n",
       "      <th>isReasonCourse</th>\n",
       "      <th>Grade</th>\n",
       "    </tr>\n",
       "  </thead>\n",
       "  <tbody>\n",
       "    <tr>\n",
       "      <th>0</th>\n",
       "      <td>GP</td>\n",
       "      <td>1</td>\n",
       "      <td>17</td>\n",
       "      <td>U</td>\n",
       "      <td>LE3</td>\n",
       "      <td>1</td>\n",
       "      <td>at_home</td>\n",
       "      <td>at_home</td>\n",
       "      <td>0</td>\n",
       "      <td>2</td>\n",
       "      <td>...</td>\n",
       "      <td>0</td>\n",
       "      <td>0</td>\n",
       "      <td>0</td>\n",
       "      <td>1</td>\n",
       "      <td>0</td>\n",
       "      <td>0</td>\n",
       "      <td>1</td>\n",
       "      <td>0</td>\n",
       "      <td>0</td>\n",
       "      <td>15</td>\n",
       "    </tr>\n",
       "    <tr>\n",
       "      <th>1</th>\n",
       "      <td>GP</td>\n",
       "      <td>0</td>\n",
       "      <td>16</td>\n",
       "      <td>U</td>\n",
       "      <td>GT3</td>\n",
       "      <td>1</td>\n",
       "      <td>other</td>\n",
       "      <td>other</td>\n",
       "      <td>1</td>\n",
       "      <td>1</td>\n",
       "      <td>...</td>\n",
       "      <td>0</td>\n",
       "      <td>0</td>\n",
       "      <td>0</td>\n",
       "      <td>1</td>\n",
       "      <td>0</td>\n",
       "      <td>0</td>\n",
       "      <td>0</td>\n",
       "      <td>0</td>\n",
       "      <td>0</td>\n",
       "      <td>15</td>\n",
       "    </tr>\n",
       "    <tr>\n",
       "      <th>2</th>\n",
       "      <td>GP</td>\n",
       "      <td>1</td>\n",
       "      <td>19</td>\n",
       "      <td>U</td>\n",
       "      <td>GT3</td>\n",
       "      <td>1</td>\n",
       "      <td>at_home</td>\n",
       "      <td>other</td>\n",
       "      <td>0</td>\n",
       "      <td>1</td>\n",
       "      <td>...</td>\n",
       "      <td>0</td>\n",
       "      <td>0</td>\n",
       "      <td>1</td>\n",
       "      <td>0</td>\n",
       "      <td>0</td>\n",
       "      <td>0</td>\n",
       "      <td>0</td>\n",
       "      <td>0</td>\n",
       "      <td>1</td>\n",
       "      <td>9</td>\n",
       "    </tr>\n",
       "    <tr>\n",
       "      <th>3</th>\n",
       "      <td>MS</td>\n",
       "      <td>0</td>\n",
       "      <td>19</td>\n",
       "      <td>U</td>\n",
       "      <td>LE3</td>\n",
       "      <td>1</td>\n",
       "      <td>other</td>\n",
       "      <td>at_home</td>\n",
       "      <td>0</td>\n",
       "      <td>1</td>\n",
       "      <td>...</td>\n",
       "      <td>0</td>\n",
       "      <td>0</td>\n",
       "      <td>1</td>\n",
       "      <td>0</td>\n",
       "      <td>0</td>\n",
       "      <td>0</td>\n",
       "      <td>0</td>\n",
       "      <td>0</td>\n",
       "      <td>1</td>\n",
       "      <td>9</td>\n",
       "    </tr>\n",
       "    <tr>\n",
       "      <th>4</th>\n",
       "      <td>GP</td>\n",
       "      <td>0</td>\n",
       "      <td>18</td>\n",
       "      <td>U</td>\n",
       "      <td>LE3</td>\n",
       "      <td>1</td>\n",
       "      <td>other</td>\n",
       "      <td>other</td>\n",
       "      <td>1</td>\n",
       "      <td>1</td>\n",
       "      <td>...</td>\n",
       "      <td>0</td>\n",
       "      <td>0</td>\n",
       "      <td>1</td>\n",
       "      <td>0</td>\n",
       "      <td>0</td>\n",
       "      <td>0</td>\n",
       "      <td>0</td>\n",
       "      <td>0</td>\n",
       "      <td>1</td>\n",
       "      <td>0</td>\n",
       "    </tr>\n",
       "  </tbody>\n",
       "</table>\n",
       "<p>5 rows × 39 columns</p>\n",
       "</div>"
      ],
      "text/plain": [
       "  school  sex  age address famsize  Pstatus     Mjob     Fjob  guardian  \\\n",
       "0     GP    1   17       U     LE3        1  at_home  at_home         0   \n",
       "1     GP    0   16       U     GT3        1    other    other         1   \n",
       "2     GP    1   19       U     GT3        1  at_home    other         0   \n",
       "3     MS    0   19       U     LE3        1    other  at_home         0   \n",
       "4     GP    0   18       U     LE3        1    other    other         1   \n",
       "\n",
       "   traveltime  ...    isMedu3  isMedu4 isFedu1  isFedu2  isFedu3  isFedu4  \\\n",
       "0           2  ...          0        0       0        1        0        0   \n",
       "1           1  ...          0        0       0        1        0        0   \n",
       "2           1  ...          0        0       1        0        0        0   \n",
       "3           1  ...          0        0       1        0        0        0   \n",
       "4           1  ...          0        0       1        0        0        0   \n",
       "\n",
       "   isReasonHome  isReasonRep  isReasonCourse  Grade  \n",
       "0             1            0               0     15  \n",
       "1             0            0               0     15  \n",
       "2             0            0               1      9  \n",
       "3             0            0               1      9  \n",
       "4             0            0               1      0  \n",
       "\n",
       "[5 rows x 39 columns]"
      ]
     },
     "execution_count": 4,
     "metadata": {},
     "output_type": "execute_result"
    }
   ],
   "source": [
    "data.head(5)"
   ]
  },
  {
   "cell_type": "code",
   "execution_count": 55,
   "metadata": {},
   "outputs": [
    {
     "data": {
      "text/plain": [
       "school            object\n",
       "sex                int64\n",
       "age                int64\n",
       "address           object\n",
       "famsize           object\n",
       "Pstatus            int64\n",
       "Mjob              object\n",
       "Fjob              object\n",
       "guardian           int64\n",
       "traveltime         int64\n",
       "studytime          int64\n",
       "failures           int64\n",
       "internet          object\n",
       "famrel             int64\n",
       "freetime           int64\n",
       "goout              int64\n",
       "Dalc               int64\n",
       "Walc               int64\n",
       "health             int64\n",
       "absences           int64\n",
       "isSchoolsup        int64\n",
       "isFamsup           int64\n",
       "isPaid             int64\n",
       "isActivities       int64\n",
       "isNursery          int64\n",
       "isHigher           int64\n",
       "isRomantic         int64\n",
       "isMedu1            int64\n",
       "isMedu2            int64\n",
       "isMedu3            int64\n",
       "isMedu4            int64\n",
       "isFedu1            int64\n",
       "isFedu2            int64\n",
       "isFedu3            int64\n",
       "isFedu4            int64\n",
       "isReasonHome       int64\n",
       "isReasonRep        int64\n",
       "isReasonCourse     int64\n",
       "Grade              int64\n",
       "dtype: object"
      ]
     },
     "execution_count": 55,
     "metadata": {},
     "output_type": "execute_result"
    }
   ],
   "source": [
    "data.dtypes"
   ]
  },
  {
   "cell_type": "markdown",
   "metadata": {},
   "source": [
    "As you can see, the dataset conains plenty of information about the students. Here is the description of the features:\n",
    "\n",
    "* school - student's school (binary: 'GP' - Gabriel Pereira or 'MS' - Mousinho da Silveira) \n",
    "* sex - student's sex (binary: 'F' - female or 'M' - male) \n",
    "* age - student's age (numeric: from 15 to 22) \n",
    "* address - student's home address type (binary: 'U' - urban or 'R' - rural) \n",
    "* famsize - family size (binary: 'LE3' - less or equal to 3 or 'GT3' - greater than 3) \n",
    "* Pstatus - parent's cohabitation status (binary: 'T' - living together or 'A' - apart) \n",
    "* Mjob - mother's job (nominal: 'teacher', 'health' care related, civil 'services' (e.g. administrative or police), 'at_home' or 'other') \n",
    "* Fjob - father's job (nominal: 'teacher', 'health' care related, civil 'services' (e.g. administrative or police), 'at_home' or 'other') \n",
    "* guardian - student's guardian (nominal: 'mother', 'father' or 'other') \n",
    "* traveltime - home to school travel time (numeric: 1 - <15 min., 2 - 15 to 30 min., 3 - 30 min. to 1 hour, or 4 - >1 hour) \n",
    "* studytime - weekly study time (numeric: 1 - <2 hours, 2 - 2 to 5 hours, 3 - 5 to 10 hours, or 4 - >10 hours) \n",
    "* failures - number of past class failures (numeric: n if $1\\leq n<3$, else 4) \n",
    "* internet - Internet access at home (binary: yes or no) \n",
    "* famrel - quality of family relationships (numeric: from 1 - very bad to 5 - excellent) \n",
    "* freetime - free time after school (numeric: from 1 - very low to 5 - very high) \n",
    "* goout - going out with friends (numeric: from 1 - very low to 5 - very high) \n",
    "* Dalc - workday alcohol consumption (numeric: from 1 - very low to 5 - very high) \n",
    "* Walc - weekend alcohol consumption (numeric: from 1 - very low to 5 - very high) \n",
    "* health - current health status (numeric: from 1 - very bad to 5 - very good) \n",
    "* absences - number of school absences (numeric: from 0 to 93) \n",
    "* isSchoolsup - extra educational support (binary: 0 or 1)\n",
    "* isPaid - extra paid classes within the course subject (Math or Portuguese) (binary: 0 or 1) \n",
    "* isActivities - extra-curricular activities (binary: 0 or 1) \n",
    "* isNursery - attended nursery school (binary: 0 or 1) \n",
    "* isHigher - wants to take higher education (binary: 0 or 1)\n",
    "* isRomantic - with a romantic relationship (binary: 0 or 1)\n",
    "* isMedu1 - mother's education is primary education (4th grade) (binary: 0 or 1)\n",
    "* isMedu2 - mother's education is 5th to 9th grade (binary: 0 or 1)\n",
    "* isMedu3 - mother's education is secondary education (binary: 0 or 1)\n",
    "* isMedu4 - mother's education is higher education (binary: 0 or 1)\n",
    "* isFedu1 - father's education is primary education (4th grade) (binary: 0 or 1)\n",
    "* isFedu2 - father's education is 5th to 9th grade (binary: 0 or 1)\n",
    "* isFedu3 - father's education is secondary education (binary: 0 or 1)\n",
    "* isFedu4 - father's education is higher education (binary: 0 or 1)\n",
    "* isReasonHome - chose the school because it was close to home (binary: 0 or 1)\n",
    "* isReasonRep - chose the school because of its reputation (binary: 0 or 1)\n",
    "* isReasonCourse - chose the school because of the course preferences (binary: 0 or 1)\n",
    "* Grade - exam grade"
   ]
  },
  {
   "cell_type": "markdown",
   "metadata": {},
   "source": [
    "### Data preprocessing"
   ]
  },
  {
   "cell_type": "markdown",
   "metadata": {
    "collapsed": true
   },
   "source": [
    "Recall that ML works with numbers only. This dataset contains few non-numerical features. Present them in the numerical form before modeling."
   ]
  },
  {
   "cell_type": "code",
   "execution_count": 14,
   "metadata": {},
   "outputs": [
    {
     "data": {
      "text/html": [
       "<div>\n",
       "<style scoped>\n",
       "    .dataframe tbody tr th:only-of-type {\n",
       "        vertical-align: middle;\n",
       "    }\n",
       "\n",
       "    .dataframe tbody tr th {\n",
       "        vertical-align: top;\n",
       "    }\n",
       "\n",
       "    .dataframe thead th {\n",
       "        text-align: right;\n",
       "    }\n",
       "</style>\n",
       "<table border=\"1\" class=\"dataframe\">\n",
       "  <thead>\n",
       "    <tr style=\"text-align: right;\">\n",
       "      <th></th>\n",
       "      <th>sex</th>\n",
       "      <th>age</th>\n",
       "      <th>Pstatus</th>\n",
       "      <th>guardian</th>\n",
       "      <th>traveltime</th>\n",
       "      <th>studytime</th>\n",
       "      <th>failures</th>\n",
       "      <th>famrel</th>\n",
       "      <th>freetime</th>\n",
       "      <th>goout</th>\n",
       "      <th>...</th>\n",
       "      <th>Mjob_other</th>\n",
       "      <th>Mjob_services</th>\n",
       "      <th>Mjob_teacher</th>\n",
       "      <th>Fjob_at_home</th>\n",
       "      <th>Fjob_health</th>\n",
       "      <th>Fjob_other</th>\n",
       "      <th>Fjob_services</th>\n",
       "      <th>Fjob_teacher</th>\n",
       "      <th>internet_no</th>\n",
       "      <th>internet_yes</th>\n",
       "    </tr>\n",
       "  </thead>\n",
       "  <tbody>\n",
       "    <tr>\n",
       "      <th>0</th>\n",
       "      <td>1</td>\n",
       "      <td>17</td>\n",
       "      <td>1</td>\n",
       "      <td>0</td>\n",
       "      <td>2</td>\n",
       "      <td>3</td>\n",
       "      <td>0</td>\n",
       "      <td>3</td>\n",
       "      <td>3</td>\n",
       "      <td>3</td>\n",
       "      <td>...</td>\n",
       "      <td>0</td>\n",
       "      <td>0</td>\n",
       "      <td>0</td>\n",
       "      <td>1</td>\n",
       "      <td>0</td>\n",
       "      <td>0</td>\n",
       "      <td>0</td>\n",
       "      <td>0</td>\n",
       "      <td>0</td>\n",
       "      <td>1</td>\n",
       "    </tr>\n",
       "    <tr>\n",
       "      <th>1</th>\n",
       "      <td>0</td>\n",
       "      <td>16</td>\n",
       "      <td>1</td>\n",
       "      <td>1</td>\n",
       "      <td>1</td>\n",
       "      <td>1</td>\n",
       "      <td>0</td>\n",
       "      <td>4</td>\n",
       "      <td>3</td>\n",
       "      <td>2</td>\n",
       "      <td>...</td>\n",
       "      <td>1</td>\n",
       "      <td>0</td>\n",
       "      <td>0</td>\n",
       "      <td>0</td>\n",
       "      <td>0</td>\n",
       "      <td>1</td>\n",
       "      <td>0</td>\n",
       "      <td>0</td>\n",
       "      <td>0</td>\n",
       "      <td>1</td>\n",
       "    </tr>\n",
       "    <tr>\n",
       "      <th>2</th>\n",
       "      <td>1</td>\n",
       "      <td>19</td>\n",
       "      <td>1</td>\n",
       "      <td>0</td>\n",
       "      <td>1</td>\n",
       "      <td>2</td>\n",
       "      <td>3</td>\n",
       "      <td>3</td>\n",
       "      <td>4</td>\n",
       "      <td>2</td>\n",
       "      <td>...</td>\n",
       "      <td>0</td>\n",
       "      <td>0</td>\n",
       "      <td>0</td>\n",
       "      <td>0</td>\n",
       "      <td>0</td>\n",
       "      <td>1</td>\n",
       "      <td>0</td>\n",
       "      <td>0</td>\n",
       "      <td>1</td>\n",
       "      <td>0</td>\n",
       "    </tr>\n",
       "    <tr>\n",
       "      <th>3</th>\n",
       "      <td>0</td>\n",
       "      <td>19</td>\n",
       "      <td>1</td>\n",
       "      <td>0</td>\n",
       "      <td>1</td>\n",
       "      <td>1</td>\n",
       "      <td>0</td>\n",
       "      <td>3</td>\n",
       "      <td>2</td>\n",
       "      <td>3</td>\n",
       "      <td>...</td>\n",
       "      <td>1</td>\n",
       "      <td>0</td>\n",
       "      <td>0</td>\n",
       "      <td>1</td>\n",
       "      <td>0</td>\n",
       "      <td>0</td>\n",
       "      <td>0</td>\n",
       "      <td>0</td>\n",
       "      <td>0</td>\n",
       "      <td>1</td>\n",
       "    </tr>\n",
       "    <tr>\n",
       "      <th>4</th>\n",
       "      <td>0</td>\n",
       "      <td>18</td>\n",
       "      <td>1</td>\n",
       "      <td>1</td>\n",
       "      <td>1</td>\n",
       "      <td>1</td>\n",
       "      <td>3</td>\n",
       "      <td>2</td>\n",
       "      <td>3</td>\n",
       "      <td>5</td>\n",
       "      <td>...</td>\n",
       "      <td>1</td>\n",
       "      <td>0</td>\n",
       "      <td>0</td>\n",
       "      <td>0</td>\n",
       "      <td>0</td>\n",
       "      <td>1</td>\n",
       "      <td>0</td>\n",
       "      <td>0</td>\n",
       "      <td>0</td>\n",
       "      <td>1</td>\n",
       "    </tr>\n",
       "  </tbody>\n",
       "</table>\n",
       "<p>5 rows × 51 columns</p>\n",
       "</div>"
      ],
      "text/plain": [
       "   sex  age  Pstatus  guardian  traveltime  studytime  failures  famrel  \\\n",
       "0    1   17        1         0           2          3         0       3   \n",
       "1    0   16        1         1           1          1         0       4   \n",
       "2    1   19        1         0           1          2         3       3   \n",
       "3    0   19        1         0           1          1         0       3   \n",
       "4    0   18        1         1           1          1         3       2   \n",
       "\n",
       "   freetime  goout      ...       Mjob_other  Mjob_services  Mjob_teacher  \\\n",
       "0         3      3      ...                0              0             0   \n",
       "1         3      2      ...                1              0             0   \n",
       "2         4      2      ...                0              0             0   \n",
       "3         2      3      ...                1              0             0   \n",
       "4         3      5      ...                1              0             0   \n",
       "\n",
       "   Fjob_at_home  Fjob_health  Fjob_other  Fjob_services  Fjob_teacher  \\\n",
       "0             1            0           0              0             0   \n",
       "1             0            0           1              0             0   \n",
       "2             0            0           1              0             0   \n",
       "3             1            0           0              0             0   \n",
       "4             0            0           1              0             0   \n",
       "\n",
       "   internet_no  internet_yes  \n",
       "0            0             1  \n",
       "1            0             1  \n",
       "2            1             0  \n",
       "3            0             1  \n",
       "4            0             1  \n",
       "\n",
       "[5 rows x 51 columns]"
      ]
     },
     "execution_count": 14,
     "metadata": {},
     "output_type": "execute_result"
    }
   ],
   "source": [
    "data_numerical = pd.get_dummies(data)\n",
    "data_numerical.head(5)"
   ]
  },
  {
   "cell_type": "markdown",
   "metadata": {},
   "source": [
    "### Preparing the subsets"
   ]
  },
  {
   "cell_type": "markdown",
   "metadata": {},
   "source": [
    "In order to interpret the model performance you need to split dataset into three subsets: train, cross validation and test. Leaving 20% of data for cross validation and 20% for test will be ok for this task. Also, separate `Grade` from the sets and store it in separate variables `y`. Recall that we want to train the model to predict grade. It should not be a feature."
   ]
  },
  {
   "cell_type": "code",
   "execution_count": 37,
   "metadata": {},
   "outputs": [],
   "source": [
    "cv_len, test_len = int(len(data_numerical)*0.2), int(len(data_numerical)*0.2)"
   ]
  },
  {
   "cell_type": "markdown",
   "metadata": {},
   "source": [
    "Shuffle our data."
   ]
  },
  {
   "cell_type": "code",
   "execution_count": 40,
   "metadata": {},
   "outputs": [],
   "source": [
    "data = data.sample(frac=1)"
   ]
  },
  {
   "cell_type": "code",
   "execution_count": 41,
   "metadata": {},
   "outputs": [],
   "source": [
    "train_set = data_numerical[(2*test_len)+1:]\n",
    "train_y = data_numerical[2*test_len+1:][\"Grade\"]\n",
    "del train_set[\"Grade\"]\n",
    "\n",
    "cv_set = data_numerical[:cv_len]\n",
    "cv_y = data_numerical[:cv_len][\"Grade\"]\n",
    "del cv_set[\"Grade\"]\n",
    "\n",
    "test_set = data_numerical[cv_len+1:test_len*2]\n",
    "test_y = data_numerical[cv_len+1:test_len*2][\"Grade\"]\n",
    "del test_set[\"Grade\"]"
   ]
  },
  {
   "cell_type": "markdown",
   "metadata": {},
   "source": [
    "### Training linear regression"
   ]
  },
  {
   "cell_type": "markdown",
   "metadata": {},
   "source": [
    "Train linear regression model on the dataset, using the model from [scikit-learn](http://scikit-learn.org/stable/modules/generated/sklearn.linear_model.LinearRegression.html)."
   ]
  },
  {
   "cell_type": "code",
   "execution_count": 13,
   "metadata": {},
   "outputs": [],
   "source": [
    "reg = LinearRegression().fit(train_set, train_y)"
   ]
  },
  {
   "cell_type": "markdown",
   "metadata": {},
   "source": [
    "Make prediction for the train, CV and test sets using the model you have trained."
   ]
  },
  {
   "cell_type": "code",
   "execution_count": 8,
   "metadata": {},
   "outputs": [],
   "source": [
    "train_predicted = reg.predict(train_set)\n",
    "cv_predicted = reg.predict(cv_set)\n",
    "test_predicted = reg.predict(test_set)"
   ]
  },
  {
   "cell_type": "markdown",
   "metadata": {},
   "source": [
    "Calculate cost function for train, CV and test sets."
   ]
  },
  {
   "cell_type": "code",
   "execution_count": 44,
   "metadata": {
    "scrolled": true
   },
   "outputs": [
    {
     "name": "stdout",
     "output_type": "stream",
     "text": [
      "6.153165925210736\n",
      "13.029550716618475\n",
      "15.52891316408287\n"
     ]
    }
   ],
   "source": [
    "train_cost = mean_squared_error(train_predicted, train_y)/ 2\n",
    "cv_cost = mean_squared_error(cv_predicted, cv_y)/ 2\n",
    "test_cost = mean_squared_error(test_predicted, test_y)/ 2\n",
    "print(train_cost)\n",
    "print(cv_cost)\n",
    "print(test_cost)"
   ]
  },
  {
   "cell_type": "markdown",
   "metadata": {},
   "source": [
    "Linear regression from sklearn has method score, that calculates value called [R-squared](https://en.wikipedia.org/wiki/Coefficient_of_determination). It is very useful to determine the quality of the model, but is not the same as cost function."
   ]
  },
  {
   "cell_type": "markdown",
   "metadata": {},
   "source": [
    "We can see that there is quite a big difference between train cost and both cv cost and test cost, it means that the model overfits. To fix it we need regularization. The simplest way to use regularization is [Ridge regression](http://scikit-learn.org/stable/modules/generated/sklearn.linear_model.Ridge.html). "
   ]
  },
  {
   "cell_type": "code",
   "execution_count": 63,
   "metadata": {},
   "outputs": [],
   "source": [
    "from sklearn.linear_model import Ridge\n",
    "\n",
    "lin_reg = Ridge(alpha=50).fit(train_set, train_y)"
   ]
  },
  {
   "cell_type": "code",
   "execution_count": 64,
   "metadata": {},
   "outputs": [],
   "source": [
    "train_predicted = lin_reg.predict(train_set)\n",
    "cv_predicted = lin_reg.predict(cv_set)\n",
    "test_predicted = lin_reg.predict(test_set)"
   ]
  },
  {
   "cell_type": "code",
   "execution_count": 77,
   "metadata": {
    "scrolled": true
   },
   "outputs": [
    {
     "name": "stdout",
     "output_type": "stream",
     "text": [
      "7.005283294125198\n",
      "9.66944499084119\n",
      "11.73947012177416\n"
     ]
    }
   ],
   "source": [
    "train_cost = mean_squared_error(train_predicted, train_y)/ 2\n",
    "cv_cost = mean_squared_error(cv_predicted, cv_y)/ 2\n",
    "test_cost = mean_squared_error(test_predicted, test_y)/ 2\n",
    "print(train_cost)\n",
    "print(cv_cost)\n",
    "print(test_cost)"
   ]
  },
  {
   "cell_type": "markdown",
   "metadata": {},
   "source": [
    "The code below will plot the CV and test accuracy of your model."
   ]
  },
  {
   "cell_type": "code",
   "execution_count": 47,
   "metadata": {},
   "outputs": [
    {
     "data": {
      "image/png": "[encoded data removed]",
      "text/plain": [
       "<Figure size 432x288 with 1 Axes>"
      ]
     },
     "metadata": {},
     "output_type": "display_data"
    },
    {
     "data": {
      "image/png": "[encoded data removed]",
      "text/plain": [
       "<Figure size 432x288 with 1 Axes>"
      ]
     },
     "metadata": {},
     "output_type": "display_data"
    },
    {
     "data": {
      "image/png": "[encoded data removed]",
      "text/plain": [
       "<Figure size 432x288 with 1 Axes>"
      ]
     },
     "metadata": {},
     "output_type": "display_data"
    }
   ],
   "source": [
    "fig, ax = plt.subplots()\n",
    "plt.scatter(train_y, train_predicted, edgecolors=(0, 0, 0))\n",
    "plt.plot([np.array(train_y).min(), np.array(train_y).max()], [np.array(train_y).min(), np.array(train_y).max()], 'k--', lw=4)\n",
    "plt.xlabel('Measured')\n",
    "plt.ylabel('Predicted')\n",
    "plt.title('Train set error')\n",
    "plt.show()\n",
    "\n",
    "fig, ax = plt.subplots() \n",
    "plt.scatter(cv_y, cv_predicted, edgecolors=(0, 0, 0))\n",
    "plt.plot([np.array(cv_y).min(), np.array(cv_y).max()], [np.array(cv_y).min(), np.array(cv_y).max()], 'k--', lw=4)\n",
    "plt.xlabel('Measured')\n",
    "plt.ylabel('Predicted')\n",
    "plt.title('CV set error')\n",
    "plt.show()\n",
    "\n",
    "fig, ax = plt.subplots()\n",
    "plt.scatter(test_y, test_predicted, edgecolors=(0, 0, 0))\n",
    "plt.plot([np.array(test_y).min(), np.array(test_y).max()], [np.array(test_y).min(), np.array(test_y).max()], 'k--', lw=4)\n",
    "plt.xlabel('Measured')\n",
    "plt.ylabel('Predicted')\n",
    "plt.title('Test set error')\n",
    "plt.show()"
   ]
  },
  {
   "cell_type": "code",
   "execution_count": null,
   "metadata": {},
   "outputs": [],
   "source": []
  }
 ],
 "metadata": {
  "anaconda-cloud": {},
  "kernelspec": {
   "display_name": "Python 3",
   "language": "python",
   "name": "python3"
  },
  "language_info": {
   "codemirror_mode": {
    "name": "ipython",
    "version": 3
   },
   "file_extension": ".py",
   "mimetype": "text/x-python",
   "name": "python",
   "nbconvert_exporter": "python",
   "pygments_lexer": "ipython3",
   "version": "3.6.5"
  }
 },
 "nbformat": 4,
 "nbformat_minor": 1
}
