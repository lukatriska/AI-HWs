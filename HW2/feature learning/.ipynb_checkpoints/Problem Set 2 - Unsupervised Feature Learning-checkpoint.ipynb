{
 "cells": [
  {
   "cell_type": "markdown",
   "metadata": {
    "collapsed": true
   },
   "source": [
    "# Unsupervised feature learning"
   ]
  },
  {
   "cell_type": "markdown",
   "metadata": {},
   "source": [
    "In this problem you will see how unsupervised learning can help you train better models even with labeled data."
   ]
  },
  {
   "cell_type": "code",
   "execution_count": 1,
   "metadata": {},
   "outputs": [],
   "source": [
    "import numpy as np"
   ]
  },
  {
   "cell_type": "code",
   "execution_count": 2,
   "metadata": {},
   "outputs": [],
   "source": [
    "image_x = 32 # width of image\n",
    "image_y = 32 # height of image\n",
    "patch_dim = 8 # height/width of a patch"
   ]
  },
  {
   "cell_type": "markdown",
   "metadata": {},
   "source": [
    "## Setting up the environment"
   ]
  },
  {
   "cell_type": "code",
   "execution_count": 3,
   "metadata": {},
   "outputs": [],
   "source": [
    "class Image(object):\n",
    "\n",
    "    def __init__(self,data,label,patches):\n",
    "        \"\"\"\n",
    "        Constructor\n",
    "        -----------\n",
    "        Takes image related data, called on image creation.\n",
    "        \"\"\"\n",
    "        self.label = label # image label\n",
    "        self.patches = patches.transpose().tolist()\n",
    "        \n",
    "        self.__img_data = data\n",
    "\n",
    "    def view(self):\n",
    "        \"\"\"\n",
    "        Function: View\n",
    "        --------------\n",
    "        Call function to view RGB image\n",
    "        \"\"\"\n",
    "        from PIL import Image\n",
    "        im = Image.fromarray(self.__img_data)\n",
    "        im = im.resize((128,128),Image.BILINEAR)\n",
    "        im.show()\n",
    "\n",
    "    def get_label(self):\n",
    "        \"\"\"\n",
    "        Function: Label\n",
    "        ---------------\n",
    "        Returns label of image\n",
    "        \"\"\"\n",
    "        return self.label\n",
    "\n",
    "    def get_patches(self):\n",
    "        \"\"\"\n",
    "        Function: Patches\n",
    "        -----------------\n",
    "        Returns list of patch vectors. Each patch length patch_size\n",
    "        \"\"\"\n",
    "        return self.patches"
   ]
  },
  {
   "cell_type": "code",
   "execution_count": 4,
   "metadata": {},
   "outputs": [],
   "source": [
    "def load_helper(name,m):\n",
    "    channels = 3\n",
    "    patch_dim = 8\n",
    "    patches_per_image = (image_x/patch_dim)*(image_y/patch_dim)\n",
    "\n",
    "    images = np.fromfile('data/images_'+name+'.bin',dtype=np.uint8)\n",
    "    images = images.reshape((m,image_x,image_y,channels))\n",
    "\n",
    "    patches = np.fromfile('data/patches_'+name+'.bin',dtype=np.float32)\n",
    "    patches = patches.reshape((patch_dim**2,-1))\n",
    "\n",
    "    labels = np.fromfile('data/labels_'+name+'.bin',dtype=np.uint8)\n",
    "\n",
    "    image_list = []\n",
    "    for i in range(images.shape[0]):\n",
    "        image_list.append(Image(images[i,...],labels[i],\n",
    "          patches[:,int(i*patches_per_image):int((i+1)*patches_per_image)]))\n",
    "    \n",
    "    return image_list"
   ]
  },
  {
   "cell_type": "code",
   "execution_count": 5,
   "metadata": {},
   "outputs": [],
   "source": [
    "def view_helper(patches,num):\n",
    "    from PIL import Image\n",
    "    \n",
    "    xnum = int(np.sqrt(num))\n",
    "    if xnum**2 == num:\n",
    "        ynum = xnum\n",
    "    else:\n",
    "        ynum = xnum+1\n",
    "\n",
    "    imDim = 50\n",
    "\n",
    "    try:\n",
    "        import matplotlib.pyplot as plt\n",
    "        patches = patches-np.min(patches)\n",
    "        patches = patches/np.max(patches)\n",
    "        patchDim = patches.shape[0]\n",
    "        image = np.zeros(((patchDim+1)*ynum+1,(patchDim+1)*xnum+1))\n",
    "        for i in range(ynum):\n",
    "            for j in range(xnum):\n",
    "                imnum = i*xnum+j\n",
    "                if imnum>=num:\n",
    "                    break\n",
    "                ax = plt.subplot2grid((ynum,xnum),(i,j))\n",
    "                ax.imshow(patches[:,:,i*xnum+j].squeeze(), cmap = plt.get_cmap('gray'))\n",
    "                ax.axes.get_xaxis().set_visible(False)\n",
    "                ax.axes.get_yaxis().set_visible(False)\n",
    "                \n",
    "        plt.subplots_adjust(wspace=-.5 ,hspace=0.2)\n",
    "        plt.show()\n",
    "        return\n",
    "    except ImportError:\n",
    "        pass\n",
    "    \n",
    "    # rescale to be [0-255]\n",
    "    patches = patches-np.min(patches)\n",
    "    patches = 255*patches/np.max(patches)\n",
    "\n",
    "    newpatches = np.empty((imDim,imDim,num))\n",
    "\n",
    "    for p in range(num):\n",
    "        patch = patches[:,:,p].squeeze().copy()\n",
    "        im = Image.fromarray(patch)\n",
    "        im = im.resize((imDim,imDim),Image.BILINEAR)\n",
    "        newpatches[:,:,p] = np.asarray(im.convert('L'))\n",
    "\n",
    "    patches = newpatches\n",
    "    image = np.zeros(((imDim+1)*ynum+1,(imDim+1)*xnum+1))\n",
    "\n",
    "    for i in range(ynum):\n",
    "        for j in range(xnum):\n",
    "            imnum = i*xnum+j\n",
    "            if imnum>=num:\n",
    "                break\n",
    "            image[i*(imDim+1)+1:i*(imDim+1)+imDim+1, \\\n",
    "                  j*(imDim+1)+1:j*(imDim+1)+imDim+1] \\\n",
    "                  = patches[:,:,imnum]\n",
    "    image = Image.fromarray(image, 'L')\n",
    "    image.show()"
   ]
  },
  {
   "cell_type": "code",
   "execution_count": 6,
   "metadata": {},
   "outputs": [],
   "source": [
    "def pixel_features(images):\n",
    "    \"\"\"\n",
    "    Extracts raw pixel features for all images.  Returns a 2-D array\n",
    "    of size featDim x numExamples and a vector of labels.\n",
    "    \"\"\"\n",
    "    X = [np.array(image.get_patches()).ravel() for image in images]\n",
    "    X = np.vstack(X).transpose() # featdim by num samples\n",
    "    # label array\n",
    "    Y = np.array([image.get_label() for image in images])\n",
    "    return X,Y"
   ]
  },
  {
   "cell_type": "code",
   "execution_count": 7,
   "metadata": {},
   "outputs": [],
   "source": [
    "def view_patches(patches):\n",
    "    \"\"\"\n",
    "    Function: View Patches\n",
    "    ----------------------\n",
    "    Pass in an array of patches (or centroids) in order to view them as\n",
    "    images.\n",
    "    \"\"\"\n",
    "    view_helper(patches.reshape(patch_dim,patch_dim,-1),patches.shape[-1])"
   ]
  },
  {
   "cell_type": "markdown",
   "metadata": {},
   "source": [
    "## Loading the data"
   ]
  },
  {
   "cell_type": "code",
   "execution_count": 8,
   "metadata": {},
   "outputs": [],
   "source": [
    "num_train_images = 2000\n",
    "file_tag = 'train'\n",
    "train_image_list = load_helper(file_tag,num_train_images)\n",
    "\n",
    "num_test_images = 1000\n",
    "file_tag = 'test'\n",
    "test_image_list = load_helper(file_tag,num_test_images)"
   ]
  },
  {
   "cell_type": "code",
   "execution_count": 9,
   "metadata": {},
   "outputs": [],
   "source": [
    "train_X,train_Y = pixel_features(train_image_list)\n",
    "test_X,test_Y = pixel_features(test_image_list)"
   ]
  },
  {
   "cell_type": "code",
   "execution_count": 10,
   "metadata": {},
   "outputs": [
    {
     "data": {
      "text/plain": [
       "((1024, 2000), (2000,))"
      ]
     },
     "execution_count": 10,
     "metadata": {},
     "output_type": "execute_result"
    }
   ],
   "source": [
    "train_X.shape, train_Y.shape"
   ]
  },
  {
   "cell_type": "code",
   "execution_count": 11,
   "metadata": {},
   "outputs": [
    {
     "name": "stdout",
     "output_type": "stream",
     "text": [
      "[[ 1.77245879e+00 -2.36186966e-01  4.86198068e-02 ... -2.42185146e-01\n",
      "  -1.57253239e-02  9.44859445e-01]\n",
      " [-2.66454482e+00 -1.67018801e-01  1.09784670e-01 ... -1.25524580e-01\n",
      "  -4.30927604e-01  1.60894477e+00]\n",
      " [ 1.04330039e+00 -5.38556993e-01  1.20907120e-01 ... -3.12024087e-01\n",
      "   2.23523572e-01  3.41507196e-01]\n",
      " ...\n",
      " [ 1.45803440e+00  3.45114350e-01  2.76380658e-01 ... -7.04077601e-01\n",
      "   9.04016048e-02  1.22188699e+00]\n",
      " [ 2.40676475e+00 -1.25334633e-03 -8.77847150e-02 ... -2.81709522e-01\n",
      "  -4.84565198e-01  1.68098342e+00]\n",
      " [ 2.08898202e-01 -3.34747881e-02  5.40620685e-02 ... -1.38029903e-01\n",
      "   3.84905010e-01  1.27014351e+00]]\n",
      "\n",
      "[1 1 1 1 0 0 0 1 1 1]\n"
     ]
    }
   ],
   "source": [
    "print(train_X[:10])\n",
    "print(\"\")\n",
    "print(train_Y[:10])"
   ]
  },
  {
   "cell_type": "markdown",
   "metadata": {},
   "source": [
    "## Training logistic regression"
   ]
  },
  {
   "cell_type": "markdown",
   "metadata": {},
   "source": [
    "Train logistic regression on the raw pixel data and report the train and test set results."
   ]
  },
  {
   "cell_type": "code",
   "execution_count": 26,
   "metadata": {},
   "outputs": [],
   "source": [
    "from sklearn.linear_model import LogisticRegression\n",
    "from sklearn.metrics import accuracy_score\n",
    "lr = LogisticRegression().fit(train_X.T, train_Y)"
   ]
  },
  {
   "cell_type": "code",
   "execution_count": 29,
   "metadata": {},
   "outputs": [
    {
     "name": "stdout",
     "output_type": "stream",
     "text": [
      "Train set results:  0.961\n",
      "Test set results:   0.534\n"
     ]
    }
   ],
   "source": [
    "print(\"Train set results: \", lr.score(train_X.T, train_Y))\n",
    "print(\"Test set results:  \", lr.score(test_X.T, test_Y))"
   ]
  },
  {
   "cell_type": "markdown",
   "metadata": {},
   "source": [
    "## Training SVM"
   ]
  },
  {
   "cell_type": "markdown",
   "metadata": {},
   "source": [
    "Train SVM on the raw pixel data and report the train and test set results."
   ]
  },
  {
   "cell_type": "code",
   "execution_count": 30,
   "metadata": {},
   "outputs": [],
   "source": [
    "from sklearn.svm import SVC"
   ]
  },
  {
   "cell_type": "code",
   "execution_count": 39,
   "metadata": {},
   "outputs": [],
   "source": [
    "svc = SVC().fit(train_X.T, train_Y)"
   ]
  },
  {
   "cell_type": "code",
   "execution_count": 43,
   "metadata": {},
   "outputs": [
    {
     "name": "stdout",
     "output_type": "stream",
     "text": [
      "Train set results:  0.9585\n",
      "Test set results:  0.623\n"
     ]
    }
   ],
   "source": [
    "train_pred = svc.predict(train_X.T)\n",
    "test_pred = svc.predict(test_X.T)\n",
    "\n",
    "print(\"Train set results: \", accuracy_score(train_pred, train_Y))\n",
    "print(\"Test set results: \", accuracy_score(test_pred, test_Y))"
   ]
  },
  {
   "cell_type": "markdown",
   "metadata": {},
   "source": [
    "## Training XGBoost"
   ]
  },
  {
   "cell_type": "markdown",
   "metadata": {},
   "source": [
    "Train XGBoost on the raw pixel data and report the train and test set results."
   ]
  },
  {
   "cell_type": "code",
   "execution_count": 44,
   "metadata": {},
   "outputs": [],
   "source": [
    "import xgboost as xgb"
   ]
  },
  {
   "cell_type": "code",
   "execution_count": 48,
   "metadata": {},
   "outputs": [
    {
     "name": "stdout",
     "output_type": "stream",
     "text": [
      "Train set results:  0.974\n",
      "Test set results:  0.719\n"
     ]
    },
    {
     "name": "stderr",
     "output_type": "stream",
     "text": [
      "C:\\Users\\schwajka\\Anaconda3\\lib\\site-packages\\sklearn\\preprocessing\\label.py:151: DeprecationWarning: The truth value of an empty array is ambiguous. Returning False, but in future this will result in an error. Use `array.size > 0` to check that an array is not empty.\n",
      "  if diff:\n",
      "C:\\Users\\schwajka\\Anaconda3\\lib\\site-packages\\sklearn\\preprocessing\\label.py:151: DeprecationWarning: The truth value of an empty array is ambiguous. Returning False, but in future this will result in an error. Use `array.size > 0` to check that an array is not empty.\n",
      "  if diff:\n"
     ]
    }
   ],
   "source": [
    "xgb_classifier = xgb.XGBClassifier()\n",
    "xgb_classifier.fit(train_X.T, train_Y)\n",
    "\n",
    "print(\"Train set results: \", xgb_classifier.score(train_X.T, train_Y))\n",
    "print(\"Test set results: \", xgb_classifier.score(test_X.T, test_Y))"
   ]
  },
  {
   "cell_type": "markdown",
   "metadata": {},
   "source": [
    "## Learning better features"
   ]
  },
  {
   "cell_type": "markdown",
   "metadata": {},
   "source": [
    "Instead of hand-designing better features let us see if we can learn them directly from data. Each image is a 32x32 grid of pixels. We will divide the image into sixteen 8x8 \"patches\". Next, we will use K-means to cluster all the patches into centroids. These centroids will then allow us to use a better feature representation of the image."
   ]
  },
  {
   "cell_type": "markdown",
   "metadata": {},
   "source": [
    "Let us see how we can get patches from the images and visualize them. Make sure you understand the dimensions of every array and what they mean."
   ]
  },
  {
   "cell_type": "code",
   "execution_count": 50,
   "metadata": {},
   "outputs": [],
   "source": [
    "num_images = 2\n",
    "patches = np.hstack([np.array(image.get_patches()).transpose() for image in train_image_list[:num_images]])"
   ]
  },
  {
   "cell_type": "code",
   "execution_count": 52,
   "metadata": {},
   "outputs": [
    {
     "data": {
      "text/plain": [
       "(64, 32)"
      ]
     },
     "execution_count": 52,
     "metadata": {},
     "output_type": "execute_result"
    }
   ],
   "source": [
    "patches.shape"
   ]
  },
  {
   "cell_type": "code",
   "execution_count": 54,
   "metadata": {},
   "outputs": [
    {
     "data": {
      "text/plain": [
       "<Figure size 640x480 with 30 Axes>"
      ]
     },
     "metadata": {},
     "output_type": "display_data"
    }
   ],
   "source": [
    "view_patches(patches)"
   ]
  },
  {
   "cell_type": "markdown",
   "metadata": {},
   "source": [
    "Run k-means from scikit-learn to group all patches into clusters. Initially, pick the number of clusters according to your best guess."
   ]
  },
  {
   "cell_type": "code",
   "execution_count": 55,
   "metadata": {},
   "outputs": [
    {
     "data": {
      "text/plain": [
       "(64, 16000)"
      ]
     },
     "execution_count": 55,
     "metadata": {},
     "output_type": "execute_result"
    }
   ],
   "source": [
    "num_images = 1000\n",
    "patches = np.hstack([np.array(image.get_patches()).transpose() for image in train_image_list[:num_images]])\n",
    "patches.shape"
   ]
  },
  {
   "cell_type": "code",
   "execution_count": 56,
   "metadata": {},
   "outputs": [],
   "source": [
    "from sklearn.cluster import KMeans"
   ]
  },
  {
   "cell_type": "code",
   "execution_count": 66,
   "metadata": {},
   "outputs": [],
   "source": [
    "kmeans = KMeans(n_clusters=22).fit(patches.T)"
   ]
  },
  {
   "cell_type": "markdown",
   "metadata": {},
   "source": [
    "Now, visualize the centroids."
   ]
  },
  {
   "cell_type": "code",
   "execution_count": 67,
   "metadata": {},
   "outputs": [
    {
     "data": {
      "image/png": "[encoded data removed]",
      "text/plain": [
       "<Figure size 432x288 with 20 Axes>"
      ]
     },
     "metadata": {},
     "output_type": "display_data"
    }
   ],
   "source": [
    "centroids = np.array([kmeans.cluster_centers_.T]) # Please use this variable name for the array of centroids\n",
    "view_patches(centroids)"
   ]
  },
  {
   "cell_type": "markdown",
   "metadata": {},
   "source": [
    "## Representing examples in a new way"
   ]
  },
  {
   "cell_type": "markdown",
   "metadata": {},
   "source": [
    "Now, you have the centroids defining similar groups in your patches. Represent every image in your training and test set in distances between the patch and each centroid. For example, if you used 10 clusters and each image has 16 patches, new representation of the image will be a vector of 160 elements."
   ]
  },
  {
   "cell_type": "code",
   "execution_count": 79,
   "metadata": {},
   "outputs": [
    {
     "name": "stdout",
     "output_type": "stream",
     "text": [
      "(352, 2000)\n",
      "(352, 1000)\n"
     ]
    }
   ],
   "source": [
    "train_X_new = np.array([kmeans.transform(item).flatten() for item in [np.array(item.get_patches()) for item in train_image_list]]).T\n",
    "test_X_new = np.array([kmeans.transform(item).flatten() for item in [np.array(item.get_patches()) for item in test_image_list]]).T\n",
    "print(train_X_new.shape)\n",
    "print(test_X_new.shape)"
   ]
  },
  {
   "cell_type": "markdown",
   "metadata": {},
   "source": [
    "## Training classifiers"
   ]
  },
  {
   "cell_type": "markdown",
   "metadata": {},
   "source": [
    "Train all three classifiers from the above (logistic regression, SVM and XGBoost) on the new image representation. Report the train and test set results."
   ]
  },
  {
   "cell_type": "markdown",
   "metadata": {},
   "source": [
    "### Logistic Regression"
   ]
  },
  {
   "cell_type": "code",
   "execution_count": 85,
   "metadata": {},
   "outputs": [
    {
     "name": "stdout",
     "output_type": "stream",
     "text": [
      "New train set results:  0.7735\n",
      "New test set results:   0.647\n"
     ]
    }
   ],
   "source": [
    "lr_new = LogisticRegression().fit(train_X_new.T, train_Y)\n",
    "\n",
    "print(\"New train set results: \", lr_new.score(train_X_new.T, train_Y))\n",
    "print(\"New test set results:  \", lr_new.score(test_X_new.T, test_Y))"
   ]
  },
  {
   "cell_type": "markdown",
   "metadata": {},
   "source": [
    "### SVM"
   ]
  },
  {
   "cell_type": "code",
   "execution_count": 86,
   "metadata": {},
   "outputs": [
    {
     "name": "stdout",
     "output_type": "stream",
     "text": [
      "New train set results:  0.9925\n",
      "New test set results:  0.614\n"
     ]
    }
   ],
   "source": [
    "svc_new = SVC().fit(train_X_new.T, train_Y)\n",
    "\n",
    "train_pred = svc_new.predict(train_X_new.T)\n",
    "test_pred = svc_new.predict(test_X_new.T)\n",
    "\n",
    "print(\"New train set results: \", accuracy_score(train_pred, train_Y))\n",
    "print(\"New test set results: \", accuracy_score(test_pred, test_Y))"
   ]
  },
  {
   "cell_type": "markdown",
   "metadata": {},
   "source": [
    "### XGBoost"
   ]
  },
  {
   "cell_type": "code",
   "execution_count": 87,
   "metadata": {},
   "outputs": [
    {
     "name": "stdout",
     "output_type": "stream",
     "text": [
      "New train set results:  0.8825\n",
      "New test set results:  0.666\n"
     ]
    },
    {
     "name": "stderr",
     "output_type": "stream",
     "text": [
      "C:\\Users\\schwajka\\Anaconda3\\lib\\site-packages\\sklearn\\preprocessing\\label.py:151: DeprecationWarning: The truth value of an empty array is ambiguous. Returning False, but in future this will result in an error. Use `array.size > 0` to check that an array is not empty.\n",
      "  if diff:\n",
      "C:\\Users\\schwajka\\Anaconda3\\lib\\site-packages\\sklearn\\preprocessing\\label.py:151: DeprecationWarning: The truth value of an empty array is ambiguous. Returning False, but in future this will result in an error. Use `array.size > 0` to check that an array is not empty.\n",
      "  if diff:\n"
     ]
    }
   ],
   "source": [
    "xgb_classifier_new = xgb.XGBClassifier()\n",
    "xgb_classifier_new.fit(train_X_new.T, train_Y)\n",
    "\n",
    "print(\"New train set results: \", xgb_classifier_new.score(train_X_new.T, train_Y))\n",
    "print(\"New test set results: \", xgb_classifier_new.score(test_X_new.T, test_Y))"
   ]
  },
  {
   "cell_type": "markdown",
   "metadata": {},
   "source": [
    "## Getting the best out of it"
   ]
  },
  {
   "cell_type": "markdown",
   "metadata": {},
   "source": [
    "In industry, we typically try to get as much as possible out of the data we have. Try different number of clusters and different configuration of the models and report the best accuracy you got on the test set."
   ]
  }
 ],
 "metadata": {
  "kernelspec": {
   "display_name": "Python 3",
   "language": "python",
   "name": "python3"
  },
  "language_info": {
   "codemirror_mode": {
    "name": "ipython",
    "version": 3
   },
   "file_extension": ".py",
   "mimetype": "text/x-python",
   "name": "python",
   "nbconvert_exporter": "python",
   "pygments_lexer": "ipython3",
   "version": "3.6.5"
  }
 },
 "nbformat": 4,
 "nbformat_minor": 2
}
