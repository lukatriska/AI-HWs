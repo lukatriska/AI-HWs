{
 "cells": [
  {
   "cell_type": "markdown",
   "metadata": {
    "collapsed": true
   },
   "source": [
    "# The mutilated chessboard"
   ]
  },
  {
   "cell_type": "markdown",
   "metadata": {},
   "source": [
    "The puzzle is impossible to complete. A domino placed on the chessboard will always cover one white square and one black square. Therefore, a collection of dominoes placed on the board will cover an equal numbers of squares of each color. If the two white corners are removed from the board then 30 white squares and 32 black squares remain to be covered by dominoes, so this is impossible. If the two black corners are removed instead, then 32 white squares and 30 black squares remain, so it is again impossible."
   ]
  },
  {
   "cell_type": "markdown",
   "metadata": {},
   "source": [
    "# Colorizing Australia"
   ]
  },
  {
   "cell_type": "markdown",
   "metadata": {},
   "source": [
    "In this assignment, you will implement the backtracking search for colorizing the Australia on your own."
   ]
  },
  {
   "cell_type": "code",
   "execution_count": 2,
   "metadata": {},
   "outputs": [],
   "source": [
    "class CSP(object):\n",
    "    def __init__(self):\n",
    "        self.variables = []\n",
    "        self.domains = {}\n",
    "        self.factors = {}\n",
    "\n",
    "    def add_variable(self, variable, domain):\n",
    "        \"\"\"\n",
    "        Takes variable and its domain and adds them to the CSP\n",
    "        :param variable: any type\n",
    "        :param domain: list of possible values for teh variable\n",
    "        \"\"\"\n",
    "        if variable in self.variables: raise ValueError('This CSP already contains variable', variable, ', please use another name or check the consistency of your code.' )\n",
    "        if type(domain) is not list: raise ValueError('Domain should be a list.' )\n",
    "        self.variables.append(variable)\n",
    "        self.domains[variable] = domain\n",
    "\n",
    "    def add_factor(self, variables, factor_function):\n",
    "        \"\"\"\n",
    "        Takes variables and the potential for these variables and adds them to the CSP\n",
    "        :param variables: set of variables\n",
    "        :param potential: potential function taking values of the variables as input and returning \n",
    "        non-negative value of the potential  \n",
    "        \"\"\"\n",
    "\n",
    "        if type(variables) not in (list, set): raise ValueError('Variables should be a list or a set.' )\n",
    "        if type(variables) is list: variables = frozenset(variables)\n",
    "\n",
    "        if variables in self.factors.keys():\n",
    "            self.factors[variables].append(factor_function)\n",
    "        else:\n",
    "            self.factors[variables] = [factor_function]"
   ]
  },
  {
   "cell_type": "markdown",
   "metadata": {},
   "source": [
    "Here is the code constructing CSP for you. Examine it carefuly, make sure you understand all the srtuctures used."
   ]
  },
  {
   "cell_type": "code",
   "execution_count": 3,
   "metadata": {},
   "outputs": [],
   "source": [
    "csp_Australia = CSP()\n",
    "provinces = ['WA', 'NT', 'Q', 'NSW', 'V', 'SA', 'T']\n",
    "neighbors = {\n",
    "    'SA' : ['WA', 'NT', 'Q', 'NSW', 'V'],\n",
    "    'NT' : ['WA', 'Q'],\n",
    "    'NSW' : ['Q', 'V']\n",
    "}\n",
    "\n",
    "colors = ['red', 'blue', 'green']\n",
    "\n",
    "def are_neighbors(a, b):\n",
    "    return (a in neighbors and b in neighbors[a]) or (b in neighbors and a in neighbors[b])\n",
    "\n",
    "for p in provinces:\n",
    "    csp_Australia.add_variable(p, colors)\n",
    "for p1 in provinces:\n",
    "    for p2 in provinces:\n",
    "        if are_neighbors(p1, p2):\n",
    "            # Neighbors cannot have the same color\n",
    "            csp_Australia.add_factor([p1, p2], lambda x, y : x != y)"
   ]
  },
  {
   "cell_type": "markdown",
   "metadata": {},
   "source": [
    "Here you will implement backtracking search with advanced forward checking and without propagation through a singleton domain for a good reason.\n",
    "\n",
    "Backtracking search will work like the following: it takes partial assignment is a form of all possible values to the variables (initially - full domains of the CSP). Next, we will do assignments by eliminating everything except the assigned value from the variable's domain. This way, we already enforce Prop-1 by design. \n",
    "\n",
    "Here is scp_solver class where you should add your code."
   ]
  },
  {
   "cell_type": "code",
   "execution_count": 4,
   "metadata": {},
   "outputs": [],
   "source": [
    "import copy\n",
    "\n",
    "class csp_solver():\n",
    "    def solve(self, csp):\n",
    "        self.csp = csp\n",
    "\n",
    "        # Dictionary for storing all valid assignments. Note, unlike standard CSP when we\n",
    "        # are interested only in one valid assignment, for this problem you need to\n",
    "        # find all valid assignments\n",
    "        self.valid_assignments = []\n",
    "\n",
    "        # Number of all valid assignments\n",
    "\n",
    "        # Number of times backtracking operation is called\n",
    "        self.num_operations = 0\n",
    "\n",
    "        self.backtrack(copy.deepcopy(csp.domains))\n",
    "\n",
    "        if self.valid_assignments != []:\n",
    "            print('Found %d optimal assignments in %d operations' % (len(self.valid_assignments), self.num_operations))\n",
    "            for assignment in self.valid_assignments:\n",
    "                print(assignment)\n",
    "        else:\n",
    "            print('No assignments was found.')\n",
    "\n",
    "\n",
    "    def backtrack(self, partial_assignment):\n",
    "        \"\"\"\n",
    "        \n",
    "        2c.\n",
    "        \n",
    "        Here you will implement backtracking search with arc consistency (advanced forward checking) and without propagation \n",
    "        through a singleton domain for a good reason.\n",
    "        \n",
    "        Backtracking search will work like the following: it takes partial assignment is a form of \n",
    "        all possible values to the variables (initially - full domains of the CSP). Next, we will do assignments\n",
    "        by eliminating everything except the assigned value from the variable's domain. This way, we already enforce\n",
    "        Prop-1 by design. \n",
    "        \n",
    "        If the valid assignment is found, add it to self.valid_assignments in a form of (assignment:}\n",
    "        \n",
    "        :param partial_assignment: a dictionary containing partial assignment in a form {variable:list of possible values}\n",
    "        \"\"\"\n",
    "        self.num_operations += 1\n",
    "\n",
    "        #-------- YOUR CODE HERE ----------\n",
    "        pass\n",
    "\n",
    "    def choose_next_variable(self, partial_assignment):\n",
    "        \"\"\"\n",
    "        \n",
    "        2a.\n",
    "        \n",
    "        As Prop-1 is already implemented, we will use different heuristics and return the variable with the _largest_ domain.\n",
    "        :param partial_assignment: a dictionary containing partial assignment in a form {variable:list of values}\n",
    "        :return: variable for partial assignment\n",
    "        \"\"\"\n",
    "        # -------- YOUR CODE HERE ----------\n",
    "        pass\n",
    "\n",
    "    def forward_checking(self, assigned_variable, partial_assignment, factors):\n",
    "        \"\"\"\n",
    "        \n",
    "        2b.\n",
    "        \n",
    "        Implements forward checking on steroids. Checks if any domain contains values inconsistent with current assignment\n",
    "        and eliminate these variables from the domain. As a result of this domain reduction there could be another\n",
    "        inconsistency in the domains. Eliminate them recursively by keeping track of the reduced domain and calling forward_checking\n",
    "        as a recursion. \n",
    "        \n",
    "        This wild version of forward checking is called arc consistency and is one of the most efficient implementation of the\n",
    "        forward checking idea for CSP.\n",
    "       \n",
    "        :param assigned_variable: recently assigned variable or the variable for which the domain has been reduced\n",
    "        :param partial_assignment: a dictionary containing partial assignment in a form {variable:list of values}\n",
    "        :param factors: a dictionary containing factoors of the CSP if the form of {frozenset(variables):list of constraint functions}\n",
    "        :return: a dictionary of partial assignments with reduced domains\n",
    "        \"\"\"\n",
    "        # -------- YOUR CODE HERE ----------\n",
    "        pass"
   ]
  },
  {
   "cell_type": "code",
   "execution_count": 5,
   "metadata": {},
   "outputs": [
    {
     "name": "stdout",
     "output_type": "stream",
     "text": [
      "No assignments was found.\n"
     ]
    }
   ],
   "source": [
    "solver = csp_solver()\n",
    "solver.solve(csp_Australia)"
   ]
  }
 ],
 "metadata": {
  "kernelspec": {
   "display_name": "Python 3",
   "language": "python",
   "name": "python3"
  },
  "language_info": {
   "codemirror_mode": {
    "name": "ipython",
    "version": 3
   },
   "file_extension": ".py",
   "mimetype": "text/x-python",
   "name": "python",
   "nbconvert_exporter": "python",
   "pygments_lexer": "ipython3",
   "version": "3.6.5"
  }
 },
 "nbformat": 4,
 "nbformat_minor": 2
}
